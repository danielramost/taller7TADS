{
 "cells": [
  {
   "cell_type": "markdown",
   "metadata": {},
   "source": [
    "Se importan los paquetes necesarios.\n",
    "El primero para trabajar spark, el segundo para importar un modulo de operaciones que es mas seguro y robusto que los operadores normales, y el otro para utilizar el modulo sql de spark."
   ]
  },
  {
   "cell_type": "code",
   "execution_count": 1,
   "metadata": {},
   "outputs": [],
   "source": [
    "import pyspark\n",
    "from operator import add\n",
    "sc = pyspark.SparkContext('local[*]')\n",
    "from pyspark.sql import SQLContext\n",
    "sqlContext = SQLContext(sc)"
   ]
  },
  {
   "cell_type": "markdown",
   "metadata": {},
   "source": [
    "A continuacion se define un vector con las preposiciones que se desea eliminar del resultado de salida.\n",
    "Con el modulo sql se carga el archivo de origen y luego se aplican las funciones de mapeo, filtrado y reduccion con funciones lambda, que permiten definir parametros de entrada y operaciones para aplicarle a los mismos."
   ]
  },
  {
   "cell_type": "code",
   "execution_count": 6,
   "metadata": {},
   "outputs": [],
   "source": [
    "preps = ['of','in','to','For','from']\n",
    "lines = sqlContext.read.text('noticia.txt').rdd.map(lambda r: r[0])\n",
    "counts = lines.flatMap(lambda x: x.split(' ')) \\\n",
    ".filter(lambda x: x not in preps) \\\n",
    ".map(lambda x: (x, 1)) \\\n",
    ".reduceByKey(add)"
   ]
  },
  {
   "cell_type": "markdown",
   "metadata": {},
   "source": [
    "El siguiente bloque ejecuta el codigo definido anteriormente, y genera la salida que se itera para imprimir los resultados."
   ]
  },
  {
   "cell_type": "code",
   "execution_count": 7,
   "metadata": {},
   "outputs": [
    {
     "name": "stdout",
     "output_type": "stream",
     "text": [
      "most: 1\n",
      "New: 1\n",
      "Year's: 1\n",
      "Eve: 1\n",
      "revellers,: 1\n",
      "the: 9\n",
      "post-party: 1\n",
      "regrets: 1\n",
      "are: 1\n",
      "limited: 1\n",
      "a: 5\n",
      "nasty: 1\n",
      "hangover.: 1\n",
      ": 8\n",
      "But: 1\n",
      "one: 1\n",
      "Oslo: 3\n",
      "resident: 1\n",
      "is: 2\n",
      "likely: 1\n",
      "rue: 1\n",
      "his: 2\n",
      "exploits: 1\n",
      "well: 1\n",
      "into: 1\n",
      "2018,: 1\n",
      "after: 2\n",
      "racking: 1\n",
      "up: 1\n",
      "taxi: 1\n",
      "bill: 1\n",
      "18,000: 1\n",
      "Norwegian: 2\n",
      "kroner: 1\n",
      "(£1,640;: 1\n",
      "$2,220): 1\n",
      "while: 1\n",
      "tipsy.: 1\n",
      "The: 4\n",
      "40-something: 1\n",
      "passenger's: 1\n",
      "trip: 1\n",
      "took: 1\n",
      "him: 2\n",
      "through: 2\n",
      "three: 1\n",
      "countries,: 1\n",
      "Copenhagen: 2\n",
      "Denmark,: 1\n",
      "Sweden,: 1\n",
      "and: 2\n",
      "finally: 1\n",
      "Norway's: 1\n",
      "capital,: 1\n",
      "Oslo.: 1\n",
      "Once: 1\n",
      "home,: 1\n",
      "he: 2\n",
      "failed: 1\n",
      "pay: 1\n",
      "driver.: 1\n",
      "furious: 1\n",
      "cabbie: 1\n",
      "found: 2\n",
      "himself: 1\n",
      "stranded: 1\n",
      "battery: 1\n",
      "went: 1\n",
      "flat: 1\n",
      "outside: 1\n",
      "man's: 1\n",
      "residence,: 1\n",
      "promptly: 1\n",
      "called: 1\n",
      "police.: 1\n",
      "Police: 1\n",
      "-: 2\n",
      "who: 1\n",
      "told: 1\n",
      "tale: 1\n",
      "series: 1\n",
      "tweets: 1\n",
      "said: 1\n",
      "they: 1\n",
      "fare-dodger: 1\n",
      "asleep: 1\n",
      "bed.: 1\n",
      "When: 1\n",
      "officers: 1\n",
      "woke: 1\n",
      "him,: 1\n",
      "agreed: 1\n",
      "cover: 1\n",
      "bill.: 1\n",
      "man: 1\n",
      "has: 1\n",
      "no: 1\n",
      "previous: 1\n",
      "criminal: 1\n",
      "record,: 1\n",
      "according: 1\n",
      "broadcaster: 1\n",
      "NRK.: 1\n",
      "journey: 1\n",
      "Abildso: 1\n",
      "neighbourhood: 1\n",
      "at: 1\n",
      "least: 1\n",
      "600km: 1\n",
      "(372: 1\n",
      "miles).: 1\n",
      "He: 1\n",
      "should: 1\n",
      "probably: 1\n",
      "consider: 1\n",
      "flight: 1\n",
      "next: 1\n",
      "time...: 1\n",
      "And: 1\n",
      "driver?: 1\n",
      "Luckily,: 1\n",
      "recovery: 1\n",
      "vehicle: 1\n",
      "arrived: 1\n",
      "help: 1\n",
      "out.: 1\n"
     ]
    }
   ],
   "source": [
    "output = counts.collect()\n",
    "for (word, count) in output:\n",
    "    print(\"%s: %i\" % (word, count))"
   ]
  },
  {
   "cell_type": "code",
   "execution_count": null,
   "metadata": {},
   "outputs": [],
   "source": []
  }
 ],
 "metadata": {
  "kernelspec": {
   "display_name": "Python 3",
   "language": "python",
   "name": "python3"
  },
  "language_info": {
   "codemirror_mode": {
    "name": "ipython",
    "version": 3
   },
   "file_extension": ".py",
   "mimetype": "text/x-python",
   "name": "python",
   "nbconvert_exporter": "python",
   "pygments_lexer": "ipython3",
   "version": "3.6.5"
  }
 },
 "nbformat": 4,
 "nbformat_minor": 2
}
