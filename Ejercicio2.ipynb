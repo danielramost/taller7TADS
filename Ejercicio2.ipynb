{
 "cells": [
  {
   "cell_type": "markdown",
   "metadata": {},
   "source": [
    "Integrantes:\n",
    "    Daniel Ramos.\n",
    "    Joaquín Fernando Aguilar.\n",
    "    Davis Guerra."
   ]
  },
  {
   "cell_type": "code",
   "execution_count": 1,
   "metadata": {},
   "outputs": [],
   "source": [
    "import pyspark\n",
    "sc = pyspark.SparkContext('local[*]')\n",
    "\n",
    "from pyspark.sql import SQLContext\n",
    "sqlContext = SQLContext(sc)"
   ]
  },
  {
   "cell_type": "markdown",
   "metadata": {},
   "source": [
    "## Leer los datos"
   ]
  },
  {
   "cell_type": "code",
   "execution_count": 2,
   "metadata": {},
   "outputs": [],
   "source": [
    "df = sqlContext.read.format(\"csv\").option(\"delimiter\", \"\\t\").option(\"header\", \"true\").load(\"cubo_ventas/fact_item.txt\")"
   ]
  },
  {
   "cell_type": "code",
   "execution_count": 3,
   "metadata": {},
   "outputs": [],
   "source": [
    "df_clientes = sqlContext.read.format(\"csv\").option(\"delimiter\", \"\\t\").option(\"header\", \"true\").load(\"cubo_ventas/dim_customer.txt\")"
   ]
  },
  {
   "cell_type": "code",
   "execution_count": 4,
   "metadata": {},
   "outputs": [
    {
     "data": {
      "text/plain": [
       "Row(dwh_country_id='276', fk_sales_order_item='88056', fk_sales_order='5642', local_unit_price='1.29', unit_price_eur='1.29', local_tax_amount='0.08', tax_amount_eur='0.08', local_paid_price='1.29', paid_price_eur='1.29', local_paid_price_net='1.21', paid_price_net_eur='1.21', local_coupon_money_value='0', coupon_money_value_eur='0', local_coupon_money_value_net='0', coupon_money_value_eur_net='0', local_original_price='1.29', original_unit_price_eur='0.89', fk_dim_catalog='1676', fk_dim_date='9/28/2015 12:00:00 AM', fk_dim_customer='194', fk_dim_order='6142', order_bi_created_at='9/28/2015 8:33:17 AM', order_bi_updated_at='1/26/2016 3:55:59 PM', order_item_bi_created_at='9/28/2015 8:33:17 AM', order_item_bi_updated_at='9/28/2015 8:34:04 AM')"
      ]
     },
     "execution_count": 4,
     "metadata": {},
     "output_type": "execute_result"
    }
   ],
   "source": [
    "df.head()"
   ]
  },
  {
   "cell_type": "code",
   "execution_count": 5,
   "metadata": {},
   "outputs": [
    {
     "name": "stdout",
     "output_type": "stream",
     "text": [
      "root\n",
      " |-- dwh_country_id: string (nullable = true)\n",
      " |-- fk_sales_order_item: string (nullable = true)\n",
      " |-- fk_sales_order: string (nullable = true)\n",
      " |-- local_unit_price: string (nullable = true)\n",
      " |-- unit_price_eur: string (nullable = true)\n",
      " |-- local_tax_amount: string (nullable = true)\n",
      " |-- tax_amount_eur: string (nullable = true)\n",
      " |-- local_paid_price: string (nullable = true)\n",
      " |-- paid_price_eur: string (nullable = true)\n",
      " |-- local_paid_price_net: string (nullable = true)\n",
      " |-- paid_price_net_eur: string (nullable = true)\n",
      " |-- local_coupon_money_value: string (nullable = true)\n",
      " |-- coupon_money_value_eur: string (nullable = true)\n",
      " |-- local_coupon_money_value_net: string (nullable = true)\n",
      " |-- coupon_money_value_eur_net: string (nullable = true)\n",
      " |-- local_original_price: string (nullable = true)\n",
      " |-- original_unit_price_eur: string (nullable = true)\n",
      " |-- fk_dim_catalog: string (nullable = true)\n",
      " |-- fk_dim_date: string (nullable = true)\n",
      " |-- fk_dim_customer: string (nullable = true)\n",
      " |-- fk_dim_order: string (nullable = true)\n",
      " |-- order_bi_created_at: string (nullable = true)\n",
      " |-- order_bi_updated_at: string (nullable = true)\n",
      " |-- order_item_bi_created_at: string (nullable = true)\n",
      " |-- order_item_bi_updated_at: string (nullable = true)\n",
      "\n"
     ]
    }
   ],
   "source": [
    "df.printSchema()"
   ]
  },
  {
   "cell_type": "code",
   "execution_count": 24,
   "metadata": {},
   "outputs": [
    {
     "name": "stdout",
     "output_type": "stream",
     "text": [
      "root\n",
      " |-- id_dim_customer: string (nullable = true)\n",
      " |-- dwh_country_id: string (nullable = true)\n",
      " |-- region_code: string (nullable = true)\n",
      " |-- customer_id: string (nullable = true)\n",
      " |-- first_order_id: string (nullable = true)\n",
      " |-- first_order_date: string (nullable = true)\n",
      " |-- unit_price_total_eur: string (nullable = true)\n",
      " |-- paid_price_total_eur: string (nullable = true)\n",
      " |-- coupon_value_total_eur: string (nullable = true)\n",
      " |-- coupon_value_total_eur_net: string (nullable = true)\n",
      " |-- tax_total_eur: string (nullable = true)\n",
      " |-- cogs_sum_eur: string (nullable = true)\n",
      " |-- shipping_amount_eur: string (nullable = true)\n",
      " |-- net_revenue_eur: string (nullable = true)\n",
      " |-- orders: string (nullable = true)\n",
      " |-- is_employee: string (nullable = true)\n",
      " |-- order_nr: string (nullable = true)\n",
      " |-- channel: string (nullable = true)\n",
      "\n"
     ]
    }
   ],
   "source": [
    "df_clientes.printSchema()"
   ]
  },
  {
   "cell_type": "code",
   "execution_count": 6,
   "metadata": {},
   "outputs": [
    {
     "name": "stdout",
     "output_type": "stream",
     "text": [
      "+-------+--------------+\n",
      "|summary|dwh_country_id|\n",
      "+-------+--------------+\n",
      "|  count|        175909|\n",
      "|   mean|         276.0|\n",
      "| stddev|           0.0|\n",
      "|    min|           276|\n",
      "|    max|           276|\n",
      "+-------+--------------+\n",
      "\n"
     ]
    }
   ],
   "source": [
    "df.describe('dwh_country_id').show()"
   ]
  },
  {
   "cell_type": "markdown",
   "metadata": {},
   "source": [
    "## SQL API"
   ]
  },
  {
   "cell_type": "code",
   "execution_count": 7,
   "metadata": {
    "scrolled": true
   },
   "outputs": [
    {
     "name": "stdout",
     "output_type": "stream",
     "text": [
      "+-----------------+-------------------+\n",
      "|          channel|fk_sales_order_item|\n",
      "+-----------------+-------------------+\n",
      "|Social Media Paid|              88056|\n",
      "|Social Media Paid|              88055|\n",
      "|Social Media Paid|              88054|\n",
      "|Social Media Paid|              88053|\n",
      "|Social Media Paid|              88052|\n",
      "|Social Media Paid|              88051|\n",
      "|Social Media Paid|              91950|\n",
      "|Social Media Paid|              91949|\n",
      "|Social Media Paid|              91948|\n",
      "|Social Media Paid|              91947|\n",
      "+-----------------+-------------------+\n",
      "\n"
     ]
    }
   ],
   "source": [
    "df.createOrReplaceTempView(\"fact_item\")\n",
    "df_clientes.createOrReplaceTempView(\"dim_customer\")\n",
    "users = sqlContext.sql(\"SELECT channel,fk_sales_order_item \\\n",
    "                       FROM fact_item join dim_customer on fk_dim_customer=id_dim_customer limit 10\")\n",
    "users.show()"
   ]
  },
  {
   "cell_type": "markdown",
   "metadata": {},
   "source": [
    "### 1. Perfilamiento de datos"
   ]
  },
  {
   "cell_type": "markdown",
   "metadata": {},
   "source": [
    "Realice un perfilamiento de datos para 4 columnas de fact_item que hagan referencia a una métrica. "
   ]
  },
  {
   "cell_type": "markdown",
   "metadata": {},
   "source": [
    "Las columnas seleccionadas son unit_price_eur, tax_amount_eur, paid_price_eur y fk_dim_order.\n",
    "Primero hago una descripción general de las columnas.\n",
    "La media tiene sentido porque el impuesto pagado siempre es menor al precio original del producto, y el precio pagado ya tiene aplicados descuentos, por lo cual se podría decir que las medias están relativamente bien.\n",
    "De las filas min y max se puede observar que los precios de los productos oscilan entre un centavo y 10 euros, y el impuesto sí empieza desde cero porque hay productos no gravados."
   ]
  },
  {
   "cell_type": "code",
   "execution_count": 8,
   "metadata": {},
   "outputs": [
    {
     "name": "stdout",
     "output_type": "stream",
     "text": [
      "+-------+------------------+-------------------+-----------------+------------------+\n",
      "|summary|    unit_price_eur|     tax_amount_eur|   paid_price_eur|      fk_dim_order|\n",
      "+-------+------------------+-------------------+-----------------+------------------+\n",
      "|  count|            175909|             175909|           175909|            175909|\n",
      "|   mean|3.2467645202904185|0.21976345724218566|2.732469856573652|  5500.85149139612|\n",
      "| stddev| 4.929455440993037| 0.4750312949782069|4.437943426162388|3373.9870972214635|\n",
      "|    min|               0.1|                  0|                0|                 1|\n",
      "|    max|              9.99|               9.58|            97.64|              9999|\n",
      "+-------+------------------+-------------------+-----------------+------------------+\n",
      "\n"
     ]
    }
   ],
   "source": [
    "df.describe('unit_price_eur','tax_amount_eur','paid_price_eur','fk_dim_order').show()"
   ]
  },
  {
   "cell_type": "code",
   "execution_count": null,
   "metadata": {},
   "outputs": [],
   "source": [
    "Primero evaluamos la cantidad de productos por cada orden y el valor total pagado en cada una de ellas."
   ]
  },
  {
   "cell_type": "code",
   "execution_count": 14,
   "metadata": {},
   "outputs": [
    {
     "name": "stdout",
     "output_type": "stream",
     "text": [
      "+--------+--------+----------+\n",
      "|numorden|numprods|totalorden|\n",
      "+--------+--------+----------+\n",
      "|    9586|      24|      88.0|\n",
      "|    7711|      21|      31.0|\n",
      "|    7273|      48|     141.0|\n",
      "|    5645|      26|     102.0|\n",
      "|    8304|      17|      33.0|\n",
      "|    9993|      15|      98.0|\n",
      "|    6613|      11|      42.0|\n",
      "|    4937|      18|      40.0|\n",
      "|    6194|      15|      45.0|\n",
      "|    9583|      25|      51.0|\n",
      "|    5325|      32|      91.0|\n",
      "|     467|      20|      90.0|\n",
      "|    7762|       8|      45.0|\n",
      "|    9009|       6|      50.0|\n",
      "|     691|       8|      32.0|\n",
      "|   14887|       1|      26.0|\n",
      "|   15271|       1|      43.0|\n",
      "|     675|      11|      58.0|\n",
      "|    3959|      21|      54.0|\n",
      "|    9030|      19|      66.0|\n",
      "+--------+--------+----------+\n",
      "only showing top 20 rows\n",
      "\n"
     ]
    }
   ],
   "source": [
    "ordenes = sqlContext.sql(\"SELECT fk_dim_order AS numorden, \\\n",
    "                       COUNT(*) AS numprods, \\\n",
    "                       ROUND(SUM(paid_price_eur)) AS totalorden \\\n",
    "                       FROM fact_item GROUP BY fk_dim_order\")\n",
    "ordenes.show()"
   ]
  },
  {
   "cell_type": "code",
   "execution_count": null,
   "metadata": {},
   "outputs": [],
   "source": [
    "Ahora se analizan las columnas con valores nulos o diferentes a caracteres numéricos para el caso de los precios,\n",
    "impuestos y total."
   ]
  },
  {
   "cell_type": "code",
   "execution_count": 15,
   "metadata": {},
   "outputs": [
    {
     "name": "stdout",
     "output_type": "stream",
     "text": [
      "+--------+\n",
      "|count(1)|\n",
      "+--------+\n",
      "|       0|\n",
      "+--------+\n",
      "\n"
     ]
    }
   ],
   "source": [
    "nulos = sqlContext.sql(\"SELECT COUNT(*) FROM fact_item WHERE unit_price_eur IS NULL\")\n",
    "nulos.show()"
   ]
  },
  {
   "cell_type": "code",
   "execution_count": 21,
   "metadata": {},
   "outputs": [
    {
     "name": "stdout",
     "output_type": "stream",
     "text": [
      "+--------------+\n",
      "|unit_price_eur|\n",
      "+--------------+\n",
      "+--------------+\n",
      "\n"
     ]
    }
   ],
   "source": [
    "letras = sqlContext.sql(\"SELECT COUNT(*) FROM fact_item WHERE unit_price_eur NOT REGEXP '^[0-9]+(\\.[0-9]+)?$'\")\n",
    "letras.show()"
   ]
  },
  {
   "cell_type": "code",
   "execution_count": 16,
   "metadata": {},
   "outputs": [
    {
     "name": "stdout",
     "output_type": "stream",
     "text": [
      "+--------+\n",
      "|count(1)|\n",
      "+--------+\n",
      "|       0|\n",
      "+--------+\n",
      "\n"
     ]
    }
   ],
   "source": [
    "nulos = sqlContext.sql(\"SELECT COUNT(*) FROM fact_item WHERE tax_amount_eur IS NULL\")\n",
    "nulos.show()"
   ]
  },
  {
   "cell_type": "code",
   "execution_count": 22,
   "metadata": {},
   "outputs": [
    {
     "name": "stdout",
     "output_type": "stream",
     "text": [
      "+--------+\n",
      "|count(1)|\n",
      "+--------+\n",
      "|       0|\n",
      "+--------+\n",
      "\n"
     ]
    }
   ],
   "source": [
    "letras = sqlContext.sql(\"SELECT COUNT(*) FROM fact_item WHERE tax_amount_eur NOT REGEXP '^[0-9]+(\\.[0-9]+)?$'\")\n",
    "letras.show()"
   ]
  },
  {
   "cell_type": "code",
   "execution_count": 17,
   "metadata": {},
   "outputs": [
    {
     "name": "stdout",
     "output_type": "stream",
     "text": [
      "+--------+\n",
      "|count(1)|\n",
      "+--------+\n",
      "|       0|\n",
      "+--------+\n",
      "\n"
     ]
    }
   ],
   "source": [
    "nulos = sqlContext.sql(\"SELECT COUNT(*) FROM fact_item WHERE paid_price_eur IS NULL\")\n",
    "nulos.show()"
   ]
  },
  {
   "cell_type": "code",
   "execution_count": 23,
   "metadata": {},
   "outputs": [
    {
     "name": "stdout",
     "output_type": "stream",
     "text": [
      "+--------+\n",
      "|count(1)|\n",
      "+--------+\n",
      "|       0|\n",
      "+--------+\n",
      "\n"
     ]
    }
   ],
   "source": [
    "letras = sqlContext.sql(\"SELECT COUNT(*) FROM fact_item WHERE paid_price_eur NOT REGEXP '^[0-9]+(\\.[0-9]+)?$'\")\n",
    "letras.show()"
   ]
  },
  {
   "cell_type": "markdown",
   "metadata": {},
   "source": [
    "Entonces, de acuerdo a las consultas anteriores, ninguno de los campos validados tiene valores nulos o no numéricos en sus registros, por lo cual se podrían hacer cálculos con ellos sin incurrir en errores."
   ]
  },
  {
   "cell_type": "markdown",
   "metadata": {},
   "source": [
    "### 2. Ejercicio SQL:"
   ]
  },
  {
   "cell_type": "markdown",
   "metadata": {},
   "source": [
    "a.Ventas (fact_item.paid_price_total_eur) por canal de mercadeo (dim_custome.channel)\n"
   ]
  },
  {
   "cell_type": "markdown",
   "metadata": {},
   "source": [
    "Se sustituye la columna paid_price_total_eur por paid_price_net_eur porque la primera no existe en la tabla."
   ]
  },
  {
   "cell_type": "code",
   "execution_count": 29,
   "metadata": {},
   "outputs": [
    {
     "name": "stdout",
     "output_type": "stream",
     "text": [
      "+--------------------+-------+\n",
      "|               canal| ventas|\n",
      "+--------------------+-------+\n",
      "|              Direct|90341.0|\n",
      "|                 SEO|70365.0|\n",
      "|           SEM Brand|49080.0|\n",
      "|                null|34338.0|\n",
      "|            Referral|30122.0|\n",
      "|       SEM Non Brand|13150.0|\n",
      "|   Social Media Paid|12012.0|\n",
      "|        Other Unpaid| 7855.0|\n",
      "| Social Media Unpaid| 7766.0|\n",
      "|               Email| 5848.0|\n",
      "|             Display| 1888.0|\n",
      "|Social Media Reta...| 1768.0|\n",
      "|         Retargeting| 1730.0|\n",
      "+--------------------+-------+\n",
      "\n"
     ]
    }
   ],
   "source": [
    "ventas = sqlContext.sql(\"SELECT d.channel AS canal, ROUND(SUM(f.paid_price_net_eur)) AS ventas \\\n",
    "    FROM fact_item f JOIN dim_customer d ON f.fk_dim_customer = d.id_dim_customer \\\n",
    "    GROUP BY d.channel \\\n",
    "    ORDER BY ventas DESC\")\n",
    "ventas.show()"
   ]
  },
  {
   "cell_type": "markdown",
   "metadata": {},
   "source": [
    "b.Número de clientes por método de pago (dim_order.payment_method)"
   ]
  },
  {
   "cell_type": "code",
   "execution_count": null,
   "metadata": {},
   "outputs": [],
   "source": [
    "df_orden = sqlContext.read.format(\"csv\").option(\"delimiter\", \"\\t\").option(\"header\", \"true\").load(\"cubo_ventas/dim_order.txt\")\n",
    "df_orden.createOrReplaceTempView(\"dim_order\")"
   ]
  },
  {
   "cell_type": "code",
   "execution_count": 32,
   "metadata": {},
   "outputs": [
    {
     "name": "stdout",
     "output_type": "stream",
     "text": [
      "+--------------------+--------+\n",
      "|              metodo|clientes|\n",
      "+--------------------+--------+\n",
      "|           NoPayment|     169|\n",
      "|                 COD|     559|\n",
      "|    Adyen_CreditCard|    1727|\n",
      "|   Adyen_DirectDebit|     853|\n",
      "|Adyen_PaypalRecur...|       7|\n",
      "|        Adyen_Paypal|    2407|\n",
      "+--------------------+--------+\n",
      "\n"
     ]
    }
   ],
   "source": [
    "clientes = sqlContext.sql(\"SELECT o.payment_method AS metodo, COUNT(DISTINCT(f.fk_dim_customer)) AS clientes \\\n",
    "    FROM fact_item f \\\n",
    "    JOIN dim_order o ON f.fk_dim_order = o.id_dim_order \\\n",
    "    GROUP BY o.payment_method\")\n",
    "clientes.show()"
   ]
  },
  {
   "cell_type": "markdown",
   "metadata": {},
   "source": [
    "c.Ranking de productores (dim_catalog.producer) por ventas (fact_item.paid_price_total_eur)"
   ]
  },
  {
   "cell_type": "code",
   "execution_count": 33,
   "metadata": {},
   "outputs": [],
   "source": [
    "df_catalogo = sqlContext.read.format(\"csv\").option(\"delimiter\", \"\\t\").option(\"header\", \"true\").load(\"cubo_ventas/dim_catalog.txt\")\n",
    "df_catalogo.createOrReplaceTempView(\"dim_catalog\")"
   ]
  },
  {
   "cell_type": "code",
   "execution_count": 34,
   "metadata": {},
   "outputs": [
    {
     "name": "stdout",
     "output_type": "stream",
     "text": [
      "root\n",
      " |-- id_catalog: string (nullable = true)\n",
      " |-- dwh_country_id: string (nullable = true)\n",
      " |-- fk_catalog_config: string (nullable = true)\n",
      " |-- config_sku: string (nullable = true)\n",
      " |-- fk_catalog_simple: string (nullable = true)\n",
      " |-- simple_sku: string (nullable = true)\n",
      " |-- name: string (nullable = true)\n",
      " |-- description: string (nullable = true)\n",
      " |-- producer_id: string (nullable = true)\n",
      " |-- producer: string (nullable = true)\n",
      " |-- fk_catalog_brand: string (nullable = true)\n",
      "\n"
     ]
    }
   ],
   "source": [
    "df_catalogo.printSchema()"
   ]
  },
  {
   "cell_type": "code",
   "execution_count": 35,
   "metadata": {},
   "outputs": [
    {
     "name": "stdout",
     "output_type": "stream",
     "text": [
      "+--------------------+------+\n",
      "|                name|ventas|\n",
      "+--------------------+------+\n",
      "|Office Box Obst &...|6698.0|\n",
      "|       Regionale Box|6224.0|\n",
      "|     Die Grüne Kiste|5839.0|\n",
      "|            Obst Box|5705.0|\n",
      "|10 Bio Eier aus W...|4946.0|\n",
      "|          Gemüse Box|4256.0|\n",
      "|Wöchentliche Smoo...|4121.0|\n",
      "|Wöchentliche Smoo...|3921.0|\n",
      "|Der Bonativo Adve...|3288.0|\n",
      "|Gemüse Wocheneink...|3046.0|\n",
      "|Loué Hähnchenbrus...|2834.0|\n",
      "|         Fitness Box|2667.0|\n",
      "|Rinderfilet in Sc...|2254.0|\n",
      "|Bio Kartoffeln Li...|2163.0|\n",
      "|       Hähnchenkeule|2030.0|\n",
      "|      Berliner Biere|2012.0|\n",
      "|             Avocado|1956.0|\n",
      "|6 Bio Eier aus Wi...|1922.0|\n",
      "|Bergkäse - jung (...|1831.0|\n",
      "|             Bananen|1777.0|\n",
      "+--------------------+------+\n",
      "only showing top 20 rows\n",
      "\n"
     ]
    }
   ],
   "source": [
    "productores = sqlContext.sql(\"SELECT p.name, t.ventas \\\n",
    "    FROM dim_catalog p JOIN ( \\\n",
    "      SELECT f.fk_dim_catalog, ROUND(SUM(f.paid_price_net_eur)) AS ventas \\\n",
    "      FROM fact_item f \\\n",
    "      GROUP BY f.fk_dim_catalog \\\n",
    "    ) t ON t.fk_dim_catalog = p.id_catalog \\\n",
    "    ORDER BY t.ventas DESC\")\n",
    "productores.show()"
   ]
  },
  {
   "cell_type": "markdown",
   "metadata": {},
   "source": [
    "d. Ranking de clientes por ventas (fact_item.paid_price_total_eur"
   ]
  },
  {
   "cell_type": "code",
   "execution_count": 38,
   "metadata": {},
   "outputs": [
    {
     "name": "stdout",
     "output_type": "stream",
     "text": [
      "+---------------+------+\n",
      "|fk_dim_customer|ventas|\n",
      "+---------------+------+\n",
      "|           4477|4053.0|\n",
      "|           1265|3821.0|\n",
      "|           5416|3700.0|\n",
      "|           3654|3082.0|\n",
      "|           2750|3012.0|\n",
      "|           5144|2856.0|\n",
      "|           3806|2698.0|\n",
      "|            535|2363.0|\n",
      "|            586|2090.0|\n",
      "|           5064|2034.0|\n",
      "|           3407|1914.0|\n",
      "|           2751|1890.0|\n",
      "|           1175|1827.0|\n",
      "|           3918|1813.0|\n",
      "|           1964|1663.0|\n",
      "|           3815|1632.0|\n",
      "|           5776|1574.0|\n",
      "|           2196|1563.0|\n",
      "|           3445|1524.0|\n",
      "|            946|1498.0|\n",
      "+---------------+------+\n",
      "only showing top 20 rows\n",
      "\n"
     ]
    }
   ],
   "source": [
    "rankingclientes = sqlContext.sql(\"SELECT f.fk_dim_customer, ROUND(SUM(f.paid_price_net_eur)) AS ventas \\\n",
    "    FROM fact_item f \\\n",
    "    GROUP BY f.fk_dim_customer \\\n",
    "    ORDER BY ventas DESC\")\n",
    "rankingclientes.show()"
   ]
  },
  {
   "cell_type": "markdown",
   "metadata": {},
   "source": [
    "e. Número de órdenes con más de 3 items y con valor pagado por item mayor a 30 euros (fact_item.paid_price_total_eur)"
   ]
  },
  {
   "cell_type": "code",
   "execution_count": 49,
   "metadata": {},
   "outputs": [
    {
     "name": "stdout",
     "output_type": "stream",
     "text": [
      "+-------+\n",
      "|ordenes|\n",
      "+-------+\n",
      "|      7|\n",
      "+-------+\n",
      "\n"
     ]
    }
   ],
   "source": [
    "ordenesgrandes = sqlContext.sql(\"SELECT COUNT(t.*) AS ordenes \\\n",
    "                       FROM ( \\\n",
    "                         SELECT fk_dim_order AS idorden, COUNT(*) AS items \\\n",
    "                         FROM fact_item \\\n",
    "                         WHERE paid_price_net_eur > 30 \\\n",
    "                         GROUP BY fk_dim_order \\\n",
    "                         HAVING items > 3 \\\n",
    "                       ) t\")\n",
    "ordenesgrandes.show()"
   ]
  },
  {
   "cell_type": "markdown",
   "metadata": {},
   "source": [
    "Ahora se ejecuta el conteo con spark."
   ]
  },
  {
   "cell_type": "code",
   "execution_count": 52,
   "metadata": {},
   "outputs": [
    {
     "data": {
      "text/plain": [
       "7"
      ]
     },
     "execution_count": 52,
     "metadata": {},
     "output_type": "execute_result"
    }
   ],
   "source": [
    "ordenesgrandes = sqlContext.sql(\"SELECT fk_dim_order AS idorden, COUNT(*) AS items \\\n",
    "                         FROM fact_item \\\n",
    "                         WHERE paid_price_net_eur > 30 \\\n",
    "                         GROUP BY fk_dim_order \\\n",
    "                         HAVING items > 3\")\n",
    "ordenesgrandes.count()"
   ]
  },
  {
   "cell_type": "markdown",
   "metadata": {},
   "source": [
    "### Ejercicios PySpark"
   ]
  },
  {
   "cell_type": "markdown",
   "metadata": {},
   "source": [
    "Elija dos de las preguntas del punto anterior y respóndalas utilizando las funciones de PySpark\n",
    "http://spark.apache.org/docs/2.1.0/api/python/pyspark.sql.html\n",
    "https://www.analyticsvidhya.com/blog/2016/10/spark-dataframe-and-operations/\n"
   ]
  }
 ],
 "metadata": {
  "kernelspec": {
   "display_name": "Python 3",
   "language": "python",
   "name": "python3"
  },
  "language_info": {
   "codemirror_mode": {
    "name": "ipython",
    "version": 3
   },
   "file_extension": ".py",
   "mimetype": "text/x-python",
   "name": "python",
   "nbconvert_exporter": "python",
   "pygments_lexer": "ipython3",
   "version": "3.6.5"
  }
 },
 "nbformat": 4,
 "nbformat_minor": 2
}
